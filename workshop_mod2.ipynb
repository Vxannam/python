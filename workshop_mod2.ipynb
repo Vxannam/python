{
  "nbformat": 4,
  "nbformat_minor": 0,
  "metadata": {
    "kernelspec": {
      "display_name": "Python 3",
      "language": "python",
      "name": "python3"
    },
    "language_info": {
      "codemirror_mode": {
        "name": "ipython",
        "version": 3
      },
      "file_extension": ".py",
      "mimetype": "text/x-python",
      "name": "python",
      "nbconvert_exporter": "python",
      "pygments_lexer": "ipython3",
      "version": "3.8.5"
    },
    "colab": {
      "name": "Копия блокнота \"workshop mod2.ipynb\"",
      "provenance": []
    }
  },
  "cells": [
    {
      "cell_type": "markdown",
      "metadata": {
        "id": "S-djTzSJJg58"
      },
      "source": [
        "# Практическое задание, модуль 2\n",
        "### по курсу \"Язык программирования Python\""
      ]
    },
    {
      "cell_type": "markdown",
      "metadata": {
        "id": "XEeRZ0rIJg6F"
      },
      "source": [
        "Обязательные требования:\n",
        "----------------------------------------\n",
        "- Решение должно размещаться сразу после ячейки с заданием в одной или нескольких ячейках;\n",
        "- Каждое решение должно быть независимо от решений других заданий, т.е. все необходимые импорты должны присутствовать в решении каждого задания;\n",
        "- В каждом решении результат должен быть выведен на экран;\n",
        "- Чем более общее решение, тем выше оценка."
      ]
    },
    {
      "cell_type": "markdown",
      "metadata": {
        "id": "OSw2QGQ3Jg6G"
      },
      "source": [
        "### Сделано:\n",
        "    Задача 1   +\n",
        "    Задача 2   +\n",
        "    Задача 3   +\n",
        "    Задача 4   +\n",
        "    Задача 5   +-\n",
        "    Задача 6   -\n",
        "   "
      ]
    },
    {
      "cell_type": "markdown",
      "metadata": {
        "id": "g_c7rnH8Jg6H"
      },
      "source": [
        "-----\n",
        "### Задание 1 (10 баллов)\n",
        "\n",
        "Необходимо реализовать одномерный [бинарный клеточный автомат](http://mathworld.wolfram.com/ElementaryCellularAutomaton.html). \n",
        "Продемонстрировать работу программы на правилах 158 и 18. Сделать не менее 100 итераций. За использование каждого цикла `for` более 1 раза - **штраф** 5 баллов."
      ]
    },
    {
      "cell_type": "code",
      "metadata": {
        "id": "cHi-bIKIJg6H"
      },
      "source": [
        "import cellpylib as cpl"
      ],
      "execution_count": null,
      "outputs": []
    },
    {
      "cell_type": "markdown",
      "metadata": {
        "id": "q8u-1p7YJg6I"
      },
      "source": [
        "***\n",
        "#### Для правила 158"
      ]
    },
    {
      "cell_type": "code",
      "metadata": {
        "id": "pDHuJQEIJg6I",
        "outputId": "94a52896-e506-4215-ad0a-972a21794b81"
      },
      "source": [
        "cellular_automaton = cpl.init_simple(100)\n",
        "\n",
        "cellular_automaton = cpl.evolve(cellular_automaton, timesteps=100, apply_rule=lambda n, c, t: cpl.nks_rule(n, 158 ))\n",
        "\n",
        "cpl.plot(cellular_automaton)"
      ],
      "execution_count": null,
      "outputs": [
        {
          "output_type": "display_data",
          "data": {
            "image/png": "[encoded data removed]",
            "text/plain": [
              "<Figure size 432x288 with 1 Axes>"
            ]
          },
          "metadata": {
            "tags": [],
            "needs_background": "light"
          }
        }
      ]
    },
    {
      "cell_type": "markdown",
      "metadata": {
        "id": "d0asFuDxJg6J"
      },
      "source": [
        "***\n",
        "#### Для правила 18"
      ]
    },
    {
      "cell_type": "code",
      "metadata": {
        "id": "NfznjPg4Jg6K",
        "outputId": "c5d5d00f-58a8-4ed3-9e96-b8a5bebb4ad4"
      },
      "source": [
        "cellular_automaton = cpl.init_simple(100)\n",
        "\n",
        "cellular_automaton = cpl.evolve(cellular_automaton, timesteps=100, apply_rule=lambda n, c, t: cpl.nks_rule(n, 18 ))\n",
        "\n",
        "cpl.plot(cellular_automaton)"
      ],
      "execution_count": null,
      "outputs": [
        {
          "output_type": "display_data",
          "data": {
            "image/png": "[encoded data removed]",
            "text/plain": [
              "<Figure size 432x288 with 1 Axes>"
            ]
          },
          "metadata": {
            "tags": [],
            "needs_background": "light"
          }
        }
      ]
    },
    {
      "cell_type": "markdown",
      "metadata": {
        "id": "ynTbJTrRJg6K"
      },
      "source": [
        "-----\n",
        "### Задание 2 (20 баллов)\n",
        "\n",
        "В списке vecs - координаты `x`, `y` векторов в двумерном пространстве.\n",
        "Рассчитать:\n",
        "1. Длину ломаной линии, соединяющей последовательно концы векторов;\n",
        "2. Углы между предыдущим и следующим векторами;\n",
        "3. Площади треугольников, вершины которых заданы концами i, i+1, i+2 векторов.\n",
        "\n",
        "Использование любых циклов, кроме встроенных в `Numpy` **запрещено**, за каждый такой цикл - **штраф** 5 баллов.\n",
        "\n",
        "\n",
        "```\n",
        "vecs = [[6.44, 5.05],\n",
        "        [3.59, 7.71],\n",
        "        [8.81, 2.02],\n",
        "        [8.71, 7.8 ],\n",
        "        [5.51, 2.53],\n",
        "        [6.35, 4.89],\n",
        "        [7.88, 3.52],\n",
        "        [4.89, 5.83],\n",
        "        [1.66, 5.24],\n",
        "        [3.1 , 8.91],\n",
        "        [5.11, 8.22],\n",
        "        [7.06, 7.15],\n",
        "        [2.15, 2.78],\n",
        "        [7.25, 8.94],\n",
        "        [1.62, 4.97],\n",
        "        [8.86, 4.11],\n",
        "        [8.59, 8.38],\n",
        "        [2.18, 7.01],\n",
        "        [8.24, 8.57],\n",
        "        [9.97, 1.82]]\n",
        "```"
      ]
    },
    {
      "cell_type": "code",
      "metadata": {
        "id": "mUD3bJAxJg6L"
      },
      "source": [
        "import numpy as np"
      ],
      "execution_count": null,
      "outputs": []
    },
    {
      "cell_type": "code",
      "metadata": {
        "id": "Y51NzBJHJg6L"
      },
      "source": [
        "vecs = [[6.44, 5.05],\n",
        "        [3.59, 7.71],\n",
        "        [8.81, 2.02],\n",
        "        [8.71, 7.8 ],\n",
        "        [5.51, 2.53],\n",
        "        [6.35, 4.89],\n",
        "        [7.88, 3.52],\n",
        "        [4.89, 5.83],\n",
        "        [1.66, 5.24],\n",
        "        [3.1 , 8.91],\n",
        "        [5.11, 8.22],\n",
        "        [7.06, 7.15],\n",
        "        [2.15, 2.78],\n",
        "        [7.25, 8.94],\n",
        "        [1.62, 4.97],\n",
        "        [8.86, 4.11],\n",
        "        [8.59, 8.38],\n",
        "        [2.18, 7.01],\n",
        "        [8.24, 8.57],\n",
        "        [9.97, 1.82]]\n",
        "\n",
        "len(vecs)\n",
        "\n",
        "massiv = np.array(vecs)\n"
      ],
      "execution_count": null,
      "outputs": []
    },
    {
      "cell_type": "markdown",
      "metadata": {
        "id": "QtqjpBMKJg6M"
      },
      "source": [
        "***\n",
        "#### Пункт 1"
      ]
    },
    {
      "cell_type": "code",
      "metadata": {
        "id": "cE3LiUpYJg6M",
        "outputId": "c57c61a2-7bdb-43d3-a020-fa2f432f90d7"
      },
      "source": [
        "dlina_lom_lin = np.linalg.norm(massiv[1:]-massiv[:-1], axis = 1).sum()\n",
        "print(dlina_lom_lin)"
      ],
      "execution_count": null,
      "outputs": [
        {
          "output_type": "stream",
          "text": [
            "96.28806530780746\n"
          ],
          "name": "stdout"
        }
      ]
    },
    {
      "cell_type": "markdown",
      "metadata": {
        "id": "Em1rZQEUJg6M"
      },
      "source": [
        "***\n",
        "#### Пункт 2"
      ]
    },
    {
      "cell_type": "code",
      "metadata": {
        "id": "55Qw6HiuJg6M",
        "outputId": "867b7f6a-8ceb-4689-ab2d-8950a5d66597"
      },
      "source": [
        "f2 = massiv[2:]\n",
        "f1 = massiv[:-2]\n",
        "\n",
        "chisl = f1[:,0]*f2[:,0]+f1[:,1]*f2[:,1]\n",
        "znam = np.linalg.norm(l1,axis=1)*np.linalg.norm(l2,axis=1)\n",
        "\n",
        "angle_between_vectors = a/b\n",
        "itog_angle_vectors = np.arccos(angle_between_vectors)*(180/np.pi)\n",
        "print(itog_angle_vectors)"
      ],
      "execution_count": null,
      "outputs": [
        {
          "output_type": "stream",
          "text": [
            "[25.18833115 23.18678794 11.74909345  4.24605385  0.59259868 12.41214944\n",
            " 48.35177656 20.80475116 14.28945276 25.45312202  5.85035943  5.5963802\n",
            " 19.66402009 26.07349619 27.6553106  47.83936013  1.83362526 62.37982712]\n"
          ],
          "name": "stdout"
        }
      ]
    },
    {
      "cell_type": "markdown",
      "metadata": {
        "id": "Cad1ZcmpJg6N"
      },
      "source": [
        "***\n",
        "#### Пункт 3"
      ]
    },
    {
      "cell_type": "code",
      "metadata": {
        "id": "NNnKlAXyJg6N",
        "outputId": "ecb06c0c-903e-4e6d-ae21-ab35f202f2b0"
      },
      "source": [
        "dlina_otrez = massiv[1:]-massiv[:-1]\n",
        "t1 = dlina_otrez[:-1]\n",
        "t2 = dlina_otrez[1:]\n",
        "ploshad = np.abs(np.cross(t1,t2)/2)\n",
        "print(ploshad)"
      ],
      "execution_count": null,
      "outputs": [
        {
          "output_type": "stream",
          "text": [
            "[ 1.16565 14.8013   9.5115   1.5626   2.3808   0.281    4.6127   5.50225\n",
            "  4.18515  0.4026   6.8876   3.9793   7.2169  16.7923  15.3413  13.8703\n",
            "  0.8487  21.8019 ]\n"
          ],
          "name": "stdout"
        }
      ]
    },
    {
      "cell_type": "markdown",
      "metadata": {
        "id": "pleKL4s_Jg6O"
      },
      "source": [
        "-----\n",
        "### Задание 3 (10 баллов)\n",
        "\n",
        "В архиве `evolution.zip` находятся 360 файлов с именами `evolution_NNN.txt`, где `NNN = 000...359` - номер орбиты. В первом столбце каждого файла записаны расстояния (в км) перицентров орбиты (ближайших к планете точек) на каждый из 225 дней.\n",
        "\n",
        "Необходимо:\n",
        "1. При помощи `Python` распаковать `zip` файл.\n",
        "2. Сформировать `DataFrame`, в котором 225 столбцов и 360 строк. Каждая строка соответствует орбите, а столбец - дню. В ячейках записаны расстояния перицентров.\n",
        "3. Найти номера орбит, расстояние перицентров которых всегда больше 6350 км.\n",
        "4. Изобразить цветовую карту (`contourf`): по оси абсцисс - номер орбиты, по оси ординат - номер дня, цветом отображены расстояния перицентров. Рядом с цветовой картой изобразить colorbar.\n",
        "5. Изобразить поверх цветовой карты изолинии (`contour`), соответствующие уровням 6100, 6250, 6350 км."
      ]
    },
    {
      "cell_type": "code",
      "metadata": {
        "id": "uUJti6bLJg6O"
      },
      "source": [
        "from zipfile import ZipFile\n",
        "import pandas as pd\n",
        "import matplotlib.pyplot as plt"
      ],
      "execution_count": null,
      "outputs": []
    },
    {
      "cell_type": "code",
      "metadata": {
        "id": "UCFaIi8DJg6O",
        "outputId": "02f86b34-7fda-4219-9901-6cbe55203c3a"
      },
      "source": [
        "df1 = []\n",
        "\n",
        "with ZipFile(\"evolution.zip\", 'r') as myzip:\n",
        "    for i in range(360):\n",
        "        with myzip.open(\"evolution_{:03d}.txt\".format(i)) as text:\n",
        "            df = pd.read_table(text, sep = \"\\s+\", usecols = ['SC.Venus.RMAG'])\n",
        "            df.columns = [i]\n",
        "            df = df.transpose()\n",
        "            df1.append(df)\n",
        "df = pd.concat(df1)\n",
        "y = df.columns\n",
        "x = df.index\n",
        "z = df.values.T\n",
        "\n",
        "points = plt.contourf(x,y,z)\n",
        "\n",
        "a = plt.contour(points, levels = [6100,6250,6350])\n",
        "\n",
        "plt.colorbar(points)\n",
        "\n",
        "plt.show()\n"
      ],
      "execution_count": null,
      "outputs": [
        {
          "output_type": "display_data",
          "data": {
            "image/png": "[encoded data removed]",
            "text/plain": [
              "<Figure size 432x288 with 2 Axes>"
            ]
          },
          "metadata": {
            "tags": [],
            "needs_background": "light"
          }
        }
      ]
    },
    {
      "cell_type": "markdown",
      "metadata": {
        "id": "TwHMYbDEJg6P"
      },
      "source": [
        "-----\n",
        "### Задание 4 (15 баллов)\n",
        "\n",
        "Рассчитать и изобразить:\n",
        "\n",
        "- Вариант 1: [множество Мандельброта](https://ru.wikipedia.org/wiki/%D0%9C%D0%BD%D0%BE%D0%B6%D0%B5%D1%81%D1%82%D0%B2%D0%BE_%D0%9C%D0%B0%D0%BD%D0%B4%D0%B5%D0%BB%D1%8C%D0%B1%D1%80%D0%BE%D1%82%D0%B0)\n",
        "- Вариант 2: [фрактал Ляпунова](https://ru.wikipedia.org/wiki/%D0%A4%D1%80%D0%B0%D0%BA%D1%82%D0%B0%D0%BB_%D0%9B%D1%8F%D0%BF%D1%83%D0%BD%D0%BE%D0%B2%D0%B0)\n",
        "- Вариант 3: [басейн Ньютона](https://ru.wikipedia.org/wiki/Бассейны_Ньютона)\n",
        "\n",
        "Примерный план решения задачи:\n",
        "1. написать функцию для расчета в одной точке плоскости\n",
        "2. написать функцию для расчета на прямоугольной равномерной решетке\n",
        "3. выполнить расчет и получить матрицу значений\n",
        "4. при помощи `imshow` изобразить полученную матрицу\n",
        "5. использовать декоратор `@njit` модуля `numba` для ускорения вычислений"
      ]
    },
    {
      "cell_type": "markdown",
      "metadata": {
        "id": "PDdbxDXxJg6Q"
      },
      "source": [
        "Вариант:"
      ]
    },
    {
      "cell_type": "code",
      "metadata": {
        "id": "ce-eb2EjJg6Q",
        "outputId": "7a7e9783-6f8a-4f5f-c981-7f3d39032e49"
      },
      "source": [
        "20 % 3 + 1"
      ],
      "execution_count": null,
      "outputs": [
        {
          "output_type": "execute_result",
          "data": {
            "text/plain": [
              "3"
            ]
          },
          "metadata": {
            "tags": []
          },
          "execution_count": 65
        }
      ]
    },
    {
      "cell_type": "code",
      "metadata": {
        "id": "kvmQQy9UJg6S",
        "outputId": "c423b5de-39a4-4b7c-b8f9-73b7d1d0236a"
      },
      "source": [
        "import numpy as np\n",
        "import cmath\n",
        "import matplotlib.pyplot as plt\n",
        "from math import sqrt\n",
        "from numba import njit\n",
        "\n",
        "\n",
        "@njit\n",
        "def raschet_1():\n",
        "    W = 854\n",
        "    H = 480\n",
        "    X0 = W // 2\n",
        "    Y0 = H // 2\n",
        "    PXL = 0.1\n",
        "    EPS = 0.01\n",
        "    PI5 = 0.628318530717959\n",
        "\n",
        "    img = np.zeros((H, W))\n",
        "    for i in range(H):\n",
        "        for j in range(W):\n",
        "            x = (i - Y0) * PXL\n",
        "            y = (j - X0) * PXL\n",
        "            z = complex(x, y)\n",
        "            if x or y:\n",
        "                t = complex(0, 0)\n",
        "                while sqrt((z.real - t.real) ** 2 + (z.imag - t.imag) ** 2) >= EPS:\n",
        "                    t = z\n",
        "                    z = 0.8 * z + 0.2 * pow(z, -4)\n",
        "                a = int(cmath.phase(z) / PI5)\n",
        "                col = 0\n",
        "\n",
        "                if a == 0:\n",
        "                    col = 5\n",
        "                elif a == 2 or a == 1:\n",
        "                    col = 4\n",
        "                elif a == 4 or a == 3:\n",
        "                    col = 3\n",
        "                elif a == -4 or a == -3:\n",
        "                    col = 2\n",
        "                elif a == -2 or a == -1:\n",
        "                    col = 1\n",
        "                img[i][j] = col\n",
        "    return img\n",
        "\n",
        "\n",
        "@njit\n",
        "def raschet_2():\n",
        "    iter = 50\n",
        "    ma = 1000000\n",
        "    mi = 1 / 1000000\n",
        "    img = np.zeros((800, 800))\n",
        "\n",
        "    for y in range(-400, 400):\n",
        "        for x in range(-400, 400):\n",
        "            n = 0\n",
        "            z = complex(x * 0.005, y * 0.005)\n",
        "            d = z\n",
        "            while (z.real) ** 2 + (z.imag) ** 2 < ma and (d.real) ** 2 + (d.imag) ** 2 > mi and n < iter:\n",
        "                t = z\n",
        "                p = (((t.real) ** 2 + (t.imag) ** 2)) ** 2\n",
        "                x_z = 2 / 3 * t.real + ((t.real) ** 2 - (t.imag) ** 2) / (3 * p)\n",
        "                z = complex(x_z, z.imag)\n",
        "                y_z = 2 / 3 * t.imag * (1 - t.real / p)\n",
        "                z = complex(z.real, y_z)\n",
        "                x_d = abs(t.real - z.real)\n",
        "                d = complex(x_d, d.imag)\n",
        "                y_d = abs(t.imag - z.imag)\n",
        "                d = complex(d.real, y_d)\n",
        "                n += 1\n",
        "            col = (n * 9) % 255\n",
        "            img[400 + x][400 + y] = col\n",
        "    return img\n",
        "\n",
        "\n",
        "def first():\n",
        "    img_1 = raschet_1()\n",
        "    img_2 = raschet_2()\n",
        "\n",
        "    ax = plt.subplot(1, 2, 1)\n",
        "    ax.imshow(img_1)\n",
        "    ax = plt.subplot(1, 2, 2)\n",
        "    ax.imshow(img_2)\n",
        "\n",
        "    plt.show()\n",
        "\n",
        "\n",
        "if __name__ == '__main__':\n",
        "    first()\n"
      ],
      "execution_count": null,
      "outputs": [
        {
          "output_type": "display_data",
          "data": {
            "image/png": "[encoded data removed]",
            "text/plain": [
              "<Figure size 432x288 with 2 Axes>"
            ]
          },
          "metadata": {
            "tags": [],
            "needs_background": "light"
          }
        }
      ]
    },
    {
      "cell_type": "markdown",
      "metadata": {
        "id": "A7iV0_bgJg6T"
      },
      "source": [
        "-----\n",
        "### Задание 5 (15 баллов)\n",
        "\n",
        "В файле `fin.csv` находится информация о доходах и расходах физического лица.\n",
        "\n",
        "Требуется используя модуль `Pandas` рассчитать:\n",
        "1. среднемесячный доход для каждого года\n",
        "2. среднемесячный расход по каждой категории для каждого года\n",
        "3. сводную таблицу суммарных расходов: строки - Категория/Год, столбцы - Месяц.\n",
        "4. для каждой пары (Категория, Год) изобразить столбчатую диаграмму: суммарные расходы в каждом месяце (использовать таблицу из п.3).\n",
        "5. ежедневный баланс (т.е. сколько денег есть у физ. лица каждый день от начала и до конца периода, представленного в файле) и изобразить график."
      ]
    },
    {
      "cell_type": "code",
      "metadata": {
        "id": "SEaoE-bJJg6T"
      },
      "source": [
        "import pandas as pd\n",
        "import numpy as np"
      ],
      "execution_count": null,
      "outputs": []
    },
    {
      "cell_type": "code",
      "metadata": {
        "id": "TFllTijPJg6U",
        "outputId": "66ddd1a2-4688-4fc4-cac0-8355152bbd95"
      },
      "source": [
        "df = pd.read_csv(\"fin.csv\")\n",
        "df[\"Год\"]=df[\"ВРЕМЯ\"].astype(str).str[:4]\n",
        "df[\"Месяц\"]=df[\"ВРЕМЯ\"].astype(str).str[5:7]\n",
        "df\n"
      ],
      "execution_count": null,
      "outputs": [
        {
          "output_type": "execute_result",
          "data": {
            "text/html": [
              "<div>\n",
              "<style scoped>\n",
              "    .dataframe tbody tr th:only-of-type {\n",
              "        vertical-align: middle;\n",
              "    }\n",
              "\n",
              "    .dataframe tbody tr th {\n",
              "        vertical-align: top;\n",
              "    }\n",
              "\n",
              "    .dataframe thead th {\n",
              "        text-align: right;\n",
              "    }\n",
              "</style>\n",
              "<table border=\"1\" class=\"dataframe\">\n",
              "  <thead>\n",
              "    <tr style=\"text-align: right;\">\n",
              "      <th></th>\n",
              "      <th>ВРЕМЯ</th>\n",
              "      <th>СУММА</th>\n",
              "      <th>КАТЕГОРИЯ</th>\n",
              "      <th>Год</th>\n",
              "      <th>Месяц</th>\n",
              "    </tr>\n",
              "  </thead>\n",
              "  <tbody>\n",
              "    <tr>\n",
              "      <th>0</th>\n",
              "      <td>2017-04-28 01:58:00</td>\n",
              "      <td>-205.0</td>\n",
              "      <td>Еда</td>\n",
              "      <td>2017</td>\n",
              "      <td>04</td>\n",
              "    </tr>\n",
              "    <tr>\n",
              "      <th>1</th>\n",
              "      <td>2017-04-28 22:43:00</td>\n",
              "      <td>-153.0</td>\n",
              "      <td>Еда</td>\n",
              "      <td>2017</td>\n",
              "      <td>04</td>\n",
              "    </tr>\n",
              "    <tr>\n",
              "      <th>2</th>\n",
              "      <td>2017-04-28 22:43:00</td>\n",
              "      <td>-600.0</td>\n",
              "      <td>Интернет и телефон</td>\n",
              "      <td>2017</td>\n",
              "      <td>04</td>\n",
              "    </tr>\n",
              "    <tr>\n",
              "      <th>3</th>\n",
              "      <td>2017-04-29 13:59:00</td>\n",
              "      <td>-265.0</td>\n",
              "      <td>Еда</td>\n",
              "      <td>2017</td>\n",
              "      <td>04</td>\n",
              "    </tr>\n",
              "    <tr>\n",
              "      <th>4</th>\n",
              "      <td>2017-04-29 13:59:00</td>\n",
              "      <td>-5000.0</td>\n",
              "      <td>Путешествия</td>\n",
              "      <td>2017</td>\n",
              "      <td>04</td>\n",
              "    </tr>\n",
              "    <tr>\n",
              "      <th>...</th>\n",
              "      <td>...</td>\n",
              "      <td>...</td>\n",
              "      <td>...</td>\n",
              "      <td>...</td>\n",
              "      <td>...</td>\n",
              "    </tr>\n",
              "    <tr>\n",
              "      <th>2071</th>\n",
              "      <td>2019-09-14 17:56:00</td>\n",
              "      <td>-10996.0</td>\n",
              "      <td>Одежда и обувь</td>\n",
              "      <td>2019</td>\n",
              "      <td>09</td>\n",
              "    </tr>\n",
              "    <tr>\n",
              "      <th>2072</th>\n",
              "      <td>2019-09-14 19:11:00</td>\n",
              "      <td>-120.0</td>\n",
              "      <td>Еда</td>\n",
              "      <td>2019</td>\n",
              "      <td>09</td>\n",
              "    </tr>\n",
              "    <tr>\n",
              "      <th>2073</th>\n",
              "      <td>2019-09-15 12:16:00</td>\n",
              "      <td>-1300.0</td>\n",
              "      <td>Еда</td>\n",
              "      <td>2019</td>\n",
              "      <td>09</td>\n",
              "    </tr>\n",
              "    <tr>\n",
              "      <th>2074</th>\n",
              "      <td>2019-09-15 20:03:00</td>\n",
              "      <td>-1481.0</td>\n",
              "      <td>Еда</td>\n",
              "      <td>2019</td>\n",
              "      <td>09</td>\n",
              "    </tr>\n",
              "    <tr>\n",
              "      <th>2075</th>\n",
              "      <td>2019-09-16 19:28:00</td>\n",
              "      <td>-1568.0</td>\n",
              "      <td>Еда</td>\n",
              "      <td>2019</td>\n",
              "      <td>09</td>\n",
              "    </tr>\n",
              "  </tbody>\n",
              "</table>\n",
              "<p>2076 rows × 5 columns</p>\n",
              "</div>"
            ],
            "text/plain": [
              "                    ВРЕМЯ    СУММА           КАТЕГОРИЯ   Год Месяц\n",
              "0     2017-04-28 01:58:00   -205.0                 Еда  2017    04\n",
              "1     2017-04-28 22:43:00   -153.0                 Еда  2017    04\n",
              "2     2017-04-28 22:43:00   -600.0  Интернет и телефон  2017    04\n",
              "3     2017-04-29 13:59:00   -265.0                 Еда  2017    04\n",
              "4     2017-04-29 13:59:00  -5000.0         Путешествия  2017    04\n",
              "...                   ...      ...                 ...   ...   ...\n",
              "2071  2019-09-14 17:56:00 -10996.0      Одежда и обувь  2019    09\n",
              "2072  2019-09-14 19:11:00   -120.0                 Еда  2019    09\n",
              "2073  2019-09-15 12:16:00  -1300.0                 Еда  2019    09\n",
              "2074  2019-09-15 20:03:00  -1481.0                 Еда  2019    09\n",
              "2075  2019-09-16 19:28:00  -1568.0                 Еда  2019    09\n",
              "\n",
              "[2076 rows x 5 columns]"
            ]
          },
          "metadata": {
            "tags": []
          },
          "execution_count": 114
        }
      ]
    },
    {
      "cell_type": "code",
      "metadata": {
        "id": "ZE30QIBuJg6U",
        "outputId": "bfe2f439-8510-41cf-98e9-54b803c48455"
      },
      "source": [
        "df[\"КАТЕГОРИЯ\"].unique()"
      ],
      "execution_count": null,
      "outputs": [
        {
          "output_type": "execute_result",
          "data": {
            "text/plain": [
              "array(['Еда', 'Интернет и телефон', 'Путешествия', 'Доходы',\n",
              "       'Компьютер и программы', 'Транспорт', 'Подарки', 'Развлечения',\n",
              "       'Комплектующие', 'Дом', 'Стройматериалы', 'Автомобиль',\n",
              "       'Красота и здоровье', 'Одежда и обувь', 'Спорт', 'Хобби',\n",
              "       'Здоровье', 'Обучение', 'Украшения'], dtype=object)"
            ]
          },
          "metadata": {
            "tags": []
          },
          "execution_count": 117
        }
      ]
    },
    {
      "cell_type": "markdown",
      "metadata": {
        "id": "23-ndhy1Jg6U"
      },
      "source": [
        "***\n",
        "#### Пункт 1"
      ]
    },
    {
      "cell_type": "code",
      "metadata": {
        "id": "bIr8UYYQJg6V",
        "outputId": "8394f47c-aca8-40c6-a328-47ebbf989a88"
      },
      "source": [
        "for item in [\"2017\",\"2018\",\"2019\"]:\n",
        "    god = df[(df[\"КАТЕГОРИЯ\"]==\"Доходы\")&(df.Год == item)]\n",
        "    per = god[\"СУММА\"].sum()/len(set(god.Месяц))\n",
        "    print(\"Среднемесячный доход за\",item,\"год - \",per,\"\\n\")"
      ],
      "execution_count": null,
      "outputs": [
        {
          "output_type": "stream",
          "text": [
            "Среднемесячный доход за 2017 год -  151685.66666666666 \n",
            "\n",
            "Среднемесячный доход за 2018 год -  186374.91666666666 \n",
            "\n",
            "Среднемесячный доход за 2019 год -  200122.88888888888 \n",
            "\n"
          ],
          "name": "stdout"
        }
      ]
    },
    {
      "cell_type": "markdown",
      "metadata": {
        "id": "ENOJp7ENJg6V"
      },
      "source": [
        "***\n",
        "#### Пункт 2"
      ]
    },
    {
      "cell_type": "code",
      "metadata": {
        "id": "yW7pPEiNJg6V",
        "outputId": "2d870c43-71e0-4fd2-806f-b6bb82c03f33"
      },
      "source": [
        "list_kat = list(set(df.КАТЕГОРИЯ))\n",
        "for item in [\"2017\",\"2018\",\"2019\"]:\n",
        "    for elements in list_kat:\n",
        "        god = df[(df[\"КАТЕГОРИЯ\"]== elements)&(df.Год == item)]\n",
        "        if elements != \"Доходы\":\n",
        "            if god[\"СУММА\"].sum() != 0:\n",
        "                per = god[\"СУММА\"].sum()/len(set(god.Месяц))\n",
        "                print(\"Среднемесячный расход за \",item,\", в категории:\",elements.upper(),\"составляет = \",per)\n",
        "            "
      ],
      "execution_count": null,
      "outputs": [
        {
          "output_type": "stream",
          "text": [
            "Среднемесячный расход за  2017 , в категории: ТРАНСПОРТ составляет =  -2506.0\n",
            "Среднемесячный расход за  2017 , в категории: ДОМ составляет =  -44376.142857142855\n",
            "Среднемесячный расход за  2017 , в категории: СПОРТ составляет =  -13496.666666666666\n",
            "Среднемесячный расход за  2017 , в категории: КОМПЬЮТЕР И ПРОГРАММЫ составляет =  -13725.4\n",
            "Среднемесячный расход за  2017 , в категории: ПУТЕШЕСТВИЯ составляет =  -52241.4\n",
            "Среднемесячный расход за  2017 , в категории: ХОББИ составляет =  -1200.0\n",
            "Среднемесячный расход за  2017 , в категории: ЕДА составляет =  -19732.333333333332\n",
            "Среднемесячный расход за  2017 , в категории: УКРАШЕНИЯ составляет =  -3466.6666666666665\n",
            "Среднемесячный расход за  2017 , в категории: ОБУЧЕНИЕ составляет =  -3267.0\n",
            "Среднемесячный расход за  2017 , в категории: КОМПЛЕКТУЮЩИЕ составляет =  -35919.142857142855\n",
            "Среднемесячный расход за  2017 , в категории: СТРОЙМАТЕРИАЛЫ составляет =  -1100.0\n",
            "Среднемесячный расход за  2017 , в категории: КРАСОТА И ЗДОРОВЬЕ составляет =  -967.0\n",
            "Среднемесячный расход за  2017 , в категории: ОДЕЖДА И ОБУВЬ составляет =  -9066.4\n",
            "Среднемесячный расход за  2017 , в категории: ПОДАРКИ составляет =  -17927.25\n",
            "Среднемесячный расход за  2017 , в категории: ЗДОРОВЬЕ составляет =  -928.25\n",
            "Среднемесячный расход за  2017 , в категории: АВТОМОБИЛЬ составляет =  -4793.333333333333\n",
            "Среднемесячный расход за  2017 , в категории: ИНТЕРНЕТ И ТЕЛЕФОН составляет =  -1936.2\n",
            "Среднемесячный расход за  2017 , в категории: РАЗВЛЕЧЕНИЯ составляет =  -3027.5\n",
            "Среднемесячный расход за  2018 , в категории: ТРАНСПОРТ составляет =  -3469.1666666666665\n",
            "Среднемесячный расход за  2018 , в категории: ДОМ составляет =  -49319.666666666664\n",
            "Среднемесячный расход за  2018 , в категории: СПОРТ составляет =  -17959.444444444445\n",
            "Среднемесячный расход за  2018 , в категории: КОМПЬЮТЕР И ПРОГРАММЫ составляет =  -20928.166666666668\n",
            "Среднемесячный расход за  2018 , в категории: ПУТЕШЕСТВИЯ составляет =  -40823.166666666664\n",
            "Среднемесячный расход за  2018 , в категории: ХОББИ составляет =  -5225.2\n",
            "Среднемесячный расход за  2018 , в категории: ЕДА составляет =  -27533.083333333332\n",
            "Среднемесячный расход за  2018 , в категории: УКРАШЕНИЯ составляет =  -4800.0\n",
            "Среднемесячный расход за  2018 , в категории: ОБУЧЕНИЕ составляет =  -2524.777777777778\n",
            "Среднемесячный расход за  2018 , в категории: КОМПЛЕКТУЮЩИЕ составляет =  -12178.285714285714\n",
            "Среднемесячный расход за  2018 , в категории: КРАСОТА И ЗДОРОВЬЕ составляет =  -2354.25\n",
            "Среднемесячный расход за  2018 , в категории: ОДЕЖДА И ОБУВЬ составляет =  -8145.777777777777\n",
            "Среднемесячный расход за  2018 , в категории: ПОДАРКИ составляет =  -19432.363636363636\n",
            "Среднемесячный расход за  2018 , в категории: ЗДОРОВЬЕ составляет =  -2200.0\n",
            "Среднемесячный расход за  2018 , в категории: АВТОМОБИЛЬ составляет =  -1800.0\n",
            "Среднемесячный расход за  2018 , в категории: ИНТЕРНЕТ И ТЕЛЕФОН составляет =  -1173.4444444444443\n",
            "Среднемесячный расход за  2018 , в категории: РАЗВЛЕЧЕНИЯ составляет =  -2350.0\n",
            "Среднемесячный расход за  2019 , в категории: ТРАНСПОРТ составляет =  -5188.222222222223\n",
            "Среднемесячный расход за  2019 , в категории: ДОМ составляет =  -44966.555555555555\n",
            "Среднемесячный расход за  2019 , в категории: СПОРТ составляет =  -6000.0\n",
            "Среднемесячный расход за  2019 , в категории: КОМПЬЮТЕР И ПРОГРАММЫ составляет =  -512.3333333333334\n",
            "Среднемесячный расход за  2019 , в категории: ПУТЕШЕСТВИЯ составляет =  -36687.5\n",
            "Среднемесячный расход за  2019 , в категории: ХОББИ составляет =  -3451.375\n",
            "Среднемесячный расход за  2019 , в категории: ЕДА составляет =  -29928.88888888889\n",
            "Среднемесячный расход за  2019 , в категории: УКРАШЕНИЯ составляет =  -4000.0\n",
            "Среднемесячный расход за  2019 , в категории: ОБУЧЕНИЕ составляет =  -3023.285714285714\n",
            "Среднемесячный расход за  2019 , в категории: КОМПЛЕКТУЮЩИЕ составляет =  -13133.0\n",
            "Среднемесячный расход за  2019 , в категории: КРАСОТА И ЗДОРОВЬЕ составляет =  -1437.625\n",
            "Среднемесячный расход за  2019 , в категории: ОДЕЖДА И ОБУВЬ составляет =  -7502.0\n",
            "Среднемесячный расход за  2019 , в категории: ПОДАРКИ составляет =  -10450.222222222223\n",
            "Среднемесячный расход за  2019 , в категории: ЗДОРОВЬЕ составляет =  -2144.0\n",
            "Среднемесячный расход за  2019 , в категории: ИНТЕРНЕТ И ТЕЛЕФОН составляет =  -1383.75\n",
            "Среднемесячный расход за  2019 , в категории: РАЗВЛЕЧЕНИЯ составляет =  -6733.333333333333\n"
          ],
          "name": "stdout"
        }
      ]
    },
    {
      "cell_type": "markdown",
      "metadata": {
        "id": "exkRQrpcJg6W"
      },
      "source": [
        "-----\n",
        "### Задание 6 (30 баллов)\n",
        "\n",
        "Ивану Петровичу по наследству досталась квартира. Пол в одной из комнат размером 4 на 5 метров требует серьезного ремонта.\n",
        "Как выяснилось, неровности пола варьируются от 3 мм до 5 см. Иван Петрович решил для выравнивания применить наливной пол, но не знает как посчитать количество мешков, чтобы оформить заказ. Для начала ему необходимо посчитать объем неровностей. В `youtube` Иван Петрович увидел рекомендацию, что нужно сделать несколько замеров глубины неровностей относительно нулевой отметки, усреднить эти числа и умножить на площадь (метод среднего слоя), а затем учесть расход сухой смеси. Насколько Иван Петрович ошибется, если воспользуется этим советом?\n",
        "\n",
        "Для исследования этого вопроса предлагается рассчитать величину погрешности:\n",
        "\n",
        "- В случаях, когда замеры проводятся на равномерной сетке \n",
        "    - 3х3; \n",
        "    - 5х5;\n",
        "    - 9х9;\n",
        "    \n",
        "- Вычисление объема производится: \n",
        "    - метод среднего слоя;\n",
        "    - интерполяция сплайновой поверхностью 2 порядка и вычисление интеграла (объема под поверхностью);\n",
        "\n",
        "Так как задача актуальна для любого Ивана Петровича, то необходимо рассмотреть случайное равномерное распределение неровностей пола и для каждого варианта замера и расчета провести по 1000 экспериментов. Полученные значения погрешностей необходимо усреднить и посчитать дисперсию. Построить сравнительную столбчатую диаграмму для средних погрешностей и их дисперсий.\n",
        "\n",
        "Допущения:\n",
        "- Считать, что неровности пола случайны и распределены равномерно.\n",
        "- За точную величину взять замеры, выполненые на равномерной сетке 17х17, интерполяция поверхностью 3 порядка.\n",
        "- Расход сухой смеси считать за 10 кг на кв. м. при толщине слоя наливного пола 10 мм.\n",
        "- В одном мешке - 25 кг сухой смеси.\n",
        "- Интерполяцию можно выполнить при помощи `scipy.interpolate.RectBivariateSpline`. Этот класс позволяет построить поверхность заданного порядка по набору измерений, а также вычислить объем под поверхностью (т.е. взять интеграл)."
      ]
    },
    {
      "cell_type": "code",
      "metadata": {
        "id": "aTCaeKGTJg6W"
      },
      "source": [
        ""
      ],
      "execution_count": null,
      "outputs": []
    }
  ]
}